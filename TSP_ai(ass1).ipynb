{
 "cells": [
  {
   "cell_type": "code",
   "execution_count": 1,
   "metadata": {
    "colab": {
     "base_uri": "https://localhost:8080/"
    },
    "executionInfo": {
     "elapsed": 411,
     "status": "ok",
     "timestamp": 1652360854494,
     "user": {
      "displayName": "3312_Pranjal Chaudhari",
      "userId": "14727764057709158794"
     },
     "user_tz": -330
    },
    "id": "ImQzITdRz8Q8",
    "outputId": "cb61ab33-c17a-4c42-bea7-84a2bbfabd4f"
   },
   "outputs": [
    {
     "name": "stdout",
     "output_type": "stream",
     "text": [
      "Path -> 1 -> 1 : Cost = 0\n",
      "Path -> 2 -> 1 -> 2 : Cost = 40\n",
      "Path -> 3 -> 1 -> 3 : Cost = 30\n",
      "Path -> 4 -> 1 -> 4 : Cost = 20\n",
      "Optimal Cost : 20\n"
     ]
    }
   ],
   "source": [
    "import copy\n",
    "inf = float('inf')\n",
    "class TSP_AI:\n",
    "  def __init__(self, city_matrix = None, source = 0):\n",
    "    self.city_matrix = [[0]*4]*4 if city_matrix is None else city_matrix\n",
    "    self.n : int = len(self.city_matrix)\n",
    "    self.source : int = source\n",
    "\n",
    "  def solve(self):\n",
    "    minCost = inf\n",
    "    for i in range(self.n):\n",
    "      print(\"Path\", end='')\n",
    "      cost = self._solve(copy.deepcopy(city_matrix), i, i)\n",
    "      print(f\" -> {i+1} : Cost = {cost}\")\n",
    "      if cost and cost < minCost: minCost = cost\n",
    "    return minCost\n",
    "\n",
    "  def _solve(self, city_matrix, currCity = 0, source = 0):\n",
    "    if self.n < 2: return 0\n",
    "    print(f\" -> {currCity+1}\", end='') \n",
    "\n",
    "    for i in range(self.n):\n",
    "      city_matrix[i][currCity] = inf\n",
    "      currMin, currMinPos = inf, 0\n",
    "      \n",
    "      for j in range(self.n):\n",
    "        if currMin > city_matrix[currCity][j]:\n",
    "          currMin, currMinPos = city_matrix[currCity][j], j\n",
    "        if currMin == inf: return self.city_matrix[currCity][source]\n",
    "        city_matrix[currCity][currMinPos] = city_matrix[currMinPos][currCity] = inf\n",
    "        return currMin + self._solve(city_matrix, currMinPos, source)\n",
    "if __name__ == '__main__':\n",
    "  city_matrix = [\n",
    "                 [0, 20, 15, 10],\n",
    "                 [20, 0, 45, 25],\n",
    "                 [15, 45, 0, 40],\n",
    "                 [10, 25, 40, 0]\n",
    "  ]\n",
    "  source_city = 0\n",
    "  tsp = TSP_AI(city_matrix, source_city)\n",
    "  print(f\"Optimal Cost : {tsp.solve()}\")"
   ]
  },
  {
   "cell_type": "code",
   "execution_count": null,
   "metadata": {
    "id": "UxMlyka2XCQd"
   },
   "outputs": [],
   "source": []
  }
 ],
 "metadata": {
  "colab": {
   "authorship_tag": "ABX9TyM5LPMusayWpLNzdTZLKBNG",
   "collapsed_sections": [],
   "name": "TSP_ai(ass1).ipynb",
   "provenance": []
  },
  "kernelspec": {
   "display_name": "Python 3 (ipykernel)",
   "language": "python",
   "name": "python3"
  },
  "language_info": {
   "codemirror_mode": {
    "name": "ipython",
    "version": 3
   },
   "file_extension": ".py",
   "mimetype": "text/x-python",
   "name": "python",
   "nbconvert_exporter": "python",
   "pygments_lexer": "ipython3",
   "version": "3.9.7"
  }
 },
 "nbformat": 4,
 "nbformat_minor": 1
}
