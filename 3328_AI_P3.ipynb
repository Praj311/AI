{
 "cells": [
  {
   "cell_type": "code",
   "execution_count": 9,
   "id": "9f715953",
   "metadata": {},
   "outputs": [
    {
     "name": "stdout",
     "output_type": "stream",
     "text": [
      "JUG1\tJUG2\n",
      "0\t0\n",
      "3\t0\n",
      "0\t3\n",
      "3\t3\n",
      "2\t4\n",
      "0\t2\n"
     ]
    }
   ],
   "source": [
    "def pour(jug1, jug2):\n",
    "    max1, max2, fill = 3, 4, 2 #Change maximum capacity and final capacity\n",
    "\n",
    "    print(\"%d\\t%d\" % (jug1, jug2))\n",
    "    if jug2 == fill:\n",
    "        return\n",
    "    elif jug2 == max2:\n",
    "        pour(0, jug1)\n",
    "    elif jug1 != 0 and jug2 == 0:\n",
    "        pour(0, jug1)\n",
    "    elif jug1 == fill:\n",
    "        pour(jug1, 0)\n",
    "    elif jug1 < max1:\n",
    "        pour(max1, jug2)\n",
    "    elif jug1 < (max2-jug2):\n",
    "        pour(0, (jug1+jug2))\n",
    "    else:\n",
    "        pour(jug1-(max2-jug2), (max2-jug2)+jug2)\n",
    "        \n",
    "print(\"JUG1\\tJUG2\")\n",
    "pour(0, 0)"
   ]
  }
 ],
 "metadata": {
  "kernelspec": {
   "display_name": "Python 3 (ipykernel)",
   "language": "python",
   "name": "python3"
  },
  "language_info": {
   "codemirror_mode": {
    "name": "ipython",
    "version": 3
   },
   "file_extension": ".py",
   "mimetype": "text/x-python",
   "name": "python",
   "nbconvert_exporter": "python",
   "pygments_lexer": "ipython3",
   "version": "3.9.7"
  }
 },
 "nbformat": 4,
 "nbformat_minor": 5
}
