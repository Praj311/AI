{
 "cells": [
  {
   "cell_type": "code",
   "execution_count": 1,
   "id": "f04f9c08",
   "metadata": {},
   "outputs": [],
   "source": [
    "# Function to check if two queens threaten each other or not\n",
    "def isSafe(mat, r, c):\n",
    "    # return false if two queens share the same column\n",
    "    for i in range(r):\n",
    "        if mat[i][c] == 'Q':\n",
    "            return False\n",
    "    # return false if two queens share the same `\\` diagonal\n",
    "    (i, j) = (r, c)\n",
    "    while i >= 0 and j >= 0:\n",
    "        if mat[i][j] == 'Q':\n",
    "            return False\n",
    "        i = i - 1\n",
    "        j = j - 1\n",
    "    # return false if two queens share the same `/` diagonal\n",
    "    (i, j) = (r, c)\n",
    "    while i >= 0 and j < len(mat):\n",
    "        if mat[i][j] == 'Q':\n",
    "            return False\n",
    "        i = i - 1\n",
    "        j = j + 1\n",
    "    return True"
   ]
  },
  {
   "cell_type": "code",
   "execution_count": 2,
   "id": "b145b1e3",
   "metadata": {},
   "outputs": [],
   "source": [
    "def printSolution(mat):\n",
    "    for r in mat:\n",
    "        print(str(r).replace(',', '').replace('\\'', ''))\n",
    "    print()"
   ]
  },
  {
   "cell_type": "code",
   "execution_count": 3,
   "id": "99161e03",
   "metadata": {},
   "outputs": [],
   "source": [
    "def nQueen(mat, r):\n",
    "    # if `N` queens are placed successfully, print the solution\n",
    "    if r == len(mat):\n",
    "        printSolution(mat)\n",
    "        return\n",
    "    # place queen at every square in the current row `r`\n",
    "    # and recur for each valid movement\n",
    "    for i in range(len(mat)):\n",
    "    # if no two queens threaten each other\n",
    "        if isSafe(mat, r, i):\n",
    "        # place queen on the current square\n",
    "            mat[r][i] = 'Q'\n",
    "            # recur for the next row\n",
    "            nQueen(mat, r + 1)\n",
    "            # backtrack and remove the queen from the current square\n",
    "            mat[r][i] = '–'"
   ]
  },
  {
   "cell_type": "code",
   "execution_count": 4,
   "id": "11c325a4",
   "metadata": {
    "scrolled": true
   },
   "outputs": [
    {
     "name": "stdout",
     "output_type": "stream",
     "text": [
      "[– Q – –]\n",
      "[– – – Q]\n",
      "[Q – – –]\n",
      "[– – Q –]\n",
      "\n",
      "[– – Q –]\n",
      "[Q – – –]\n",
      "[– – – Q]\n",
      "[– Q – –]\n",
      "\n"
     ]
    }
   ],
   "source": [
    "if __name__ == '__main__':\n",
    "    # `N × N` chessboard\n",
    "    N = 4\n",
    "    # `mat[][]` keeps track of the position of queens in\n",
    "    # the current configuration\n",
    "    mat = [['–' for x in range(N)] for y in range(N)]\n",
    "    nQueen(mat, 0)"
   ]
  }
 ],
 "metadata": {
  "kernelspec": {
   "display_name": "Python 3 (ipykernel)",
   "language": "python",
   "name": "python3"
  },
  "language_info": {
   "codemirror_mode": {
    "name": "ipython",
    "version": 3
   },
   "file_extension": ".py",
   "mimetype": "text/x-python",
   "name": "python",
   "nbconvert_exporter": "python",
   "pygments_lexer": "ipython3",
   "version": "3.9.7"
  }
 },
 "nbformat": 4,
 "nbformat_minor": 5
}
