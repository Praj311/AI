{
 "cells": [
  {
   "cell_type": "code",
   "execution_count": 4,
   "id": "ed6f096c",
   "metadata": {},
   "outputs": [
    {
     "name": "stdout",
     "output_type": "stream",
     "text": [
      "<class 'str'>\n"
     ]
    }
   ],
   "source": [
    "#open text file\n",
    "text_file=open(r'E:\\ISHIKA\\AI pracs\\nlp.txt')\n",
    "\n",
    "#read the data\n",
    "text=text_file.read()\n",
    "\n",
    "#datatype of the data read\n",
    "print(type(text))"
   ]
  },
  {
   "cell_type": "code",
   "execution_count": 5,
   "id": "d3cd5bd6",
   "metadata": {},
   "outputs": [
    {
     "name": "stdout",
     "output_type": "stream",
     "text": [
      "Once Upon a Time is Fairy Tale Land. It's filled with magic, monsters and all of the characters we all know from stories growing up. It's real, and so are the people in it. But unlike the \"happily ever after\" you may have heard about, their stories continued, and The Evil Queen cast a Dark Curse over the land... This is Storybrooke. It's a quiet, little New England town filled with people who go about their everyday lives with no idea who they really are. The Queen's Curse has trapped them here and placed her in near-complete control. They have no real memories and no real hope\n"
     ]
    }
   ],
   "source": [
    "#print the text\n",
    "print(text)"
   ]
  },
  {
   "cell_type": "code",
   "execution_count": 6,
   "id": "c898214b",
   "metadata": {},
   "outputs": [
    {
     "name": "stdout",
     "output_type": "stream",
     "text": [
      "584\n"
     ]
    }
   ],
   "source": [
    "#print length of text\n",
    "print(len(text))"
   ]
  },
  {
   "cell_type": "code",
   "execution_count": 9,
   "id": "22594838",
   "metadata": {},
   "outputs": [
    {
     "name": "stderr",
     "output_type": "stream",
     "text": [
      "[nltk_data] Downloading package punkt to\n",
      "[nltk_data]     C:\\Users\\sweety\\AppData\\Roaming\\nltk_data...\n",
      "[nltk_data]   Unzipping tokenizers\\punkt.zip.\n"
     ]
    }
   ],
   "source": [
    "#importing for nlp processing\n",
    "import nltk\n",
    "nltk.download('punkt')\n",
    "from nltk import sent_tokenize\n",
    "from nltk import word_tokenize"
   ]
  },
  {
   "cell_type": "code",
   "execution_count": 10,
   "id": "634b95b8",
   "metadata": {},
   "outputs": [
    {
     "name": "stdout",
     "output_type": "stream",
     "text": [
      "8\n"
     ]
    }
   ],
   "source": [
    "#tokenize the text by sentences\n",
    "sentences=sent_tokenize(text)\n",
    "\n",
    "#how many sentences are there?\n",
    "print(len(sentences))"
   ]
  },
  {
   "cell_type": "code",
   "execution_count": 11,
   "id": "60f82321",
   "metadata": {},
   "outputs": [
    {
     "data": {
      "text/plain": [
       "['Once Upon a Time is Fairy Tale Land.',\n",
       " \"It's filled with magic, monsters and all of the characters we all know from stories growing up.\",\n",
       " \"It's real, and so are the people in it.\",\n",
       " 'But unlike the \"happily ever after\" you may have heard about, their stories continued, and The Evil Queen cast a Dark Curse over the land...',\n",
       " 'This is Storybrooke.',\n",
       " \"It's a quiet, little New England town filled with people who go about their everyday lives with no idea who they really are.\",\n",
       " \"The Queen's Curse has trapped them here and placed her in near-complete control.\",\n",
       " 'They have no real memories and no real hope']"
      ]
     },
     "execution_count": 11,
     "metadata": {},
     "output_type": "execute_result"
    }
   ],
   "source": [
    "#print those sentences\n",
    "sentences"
   ]
  },
  {
   "cell_type": "code",
   "execution_count": 12,
   "id": "fa297e26",
   "metadata": {},
   "outputs": [
    {
     "name": "stdout",
     "output_type": "stream",
     "text": [
      "125\n"
     ]
    }
   ],
   "source": [
    "#tokenize text with words\n",
    "words=word_tokenize(text)\n",
    "\n",
    "#how many wordsd are there?\n",
    "print(len(words))"
   ]
  },
  {
   "cell_type": "code",
   "execution_count": 14,
   "id": "bfd0129b",
   "metadata": {},
   "outputs": [
    {
     "name": "stdout",
     "output_type": "stream",
     "text": [
      "['Once', 'Upon', 'a', 'Time', 'is', 'Fairy', 'Tale', 'Land', '.', 'It', \"'s\", 'filled', 'with', 'magic', ',', 'monsters', 'and', 'all', 'of', 'the', 'characters', 'we', 'all', 'know', 'from', 'stories', 'growing', 'up', '.', 'It', \"'s\", 'real', ',', 'and', 'so', 'are', 'the', 'people', 'in', 'it', '.', 'But', 'unlike', 'the', '``', 'happily', 'ever', 'after', \"''\", 'you', 'may', 'have', 'heard', 'about', ',', 'their', 'stories', 'continued', ',', 'and', 'The', 'Evil', 'Queen', 'cast', 'a', 'Dark', 'Curse', 'over', 'the', 'land', '...', 'This', 'is', 'Storybrooke', '.', 'It', \"'s\", 'a', 'quiet', ',', 'little', 'New', 'England', 'town', 'filled', 'with', 'people', 'who', 'go', 'about', 'their', 'everyday', 'lives', 'with', 'no', 'idea', 'who', 'they', 'really', 'are', '.', 'The', 'Queen', \"'s\", 'Curse', 'has', 'trapped', 'them', 'here', 'and', 'placed', 'her', 'in', 'near-complete', 'control', '.', 'They', 'have', 'no', 'real', 'memories', 'and', 'no', 'real', 'hope']\n"
     ]
    }
   ],
   "source": [
    "#print words\n",
    "print(words)"
   ]
  },
  {
   "cell_type": "code",
   "execution_count": 15,
   "id": "addb367c",
   "metadata": {},
   "outputs": [],
   "source": [
    "#to find frequency of words\n",
    "from nltk.probability import FreqDist\n",
    "\n",
    "fd=FreqDist(words)"
   ]
  },
  {
   "cell_type": "code",
   "execution_count": 16,
   "id": "3e415349",
   "metadata": {},
   "outputs": [
    {
     "data": {
      "text/plain": [
       "[('.', 6),\n",
       " (',', 5),\n",
       " ('and', 5),\n",
       " (\"'s\", 4),\n",
       " ('the', 4),\n",
       " ('a', 3),\n",
       " ('It', 3),\n",
       " ('with', 3),\n",
       " ('real', 3),\n",
       " ('no', 3)]"
      ]
     },
     "execution_count": 16,
     "metadata": {},
     "output_type": "execute_result"
    }
   ],
   "source": [
    "#print most common 10 words\n",
    "fd.most_common(10)"
   ]
  },
  {
   "cell_type": "code",
   "execution_count": 18,
   "id": "fcc2a491",
   "metadata": {},
   "outputs": [
    {
     "name": "stderr",
     "output_type": "stream",
     "text": [
      "[nltk_data] Downloading package stopwords to\n",
      "[nltk_data]     C:\\Users\\sweety\\AppData\\Roaming\\nltk_data...\n"
     ]
    },
    {
     "name": "stdout",
     "output_type": "stream",
     "text": [
      "['i', 'me', 'my', 'myself', 'we', 'our', 'ours', 'ourselves', 'you', \"you're\", \"you've\", \"you'll\", \"you'd\", 'your', 'yours', 'yourself', 'yourselves', 'he', 'him', 'his', 'himself', 'she', \"she's\", 'her', 'hers', 'herself', 'it', \"it's\", 'its', 'itself', 'they', 'them', 'their', 'theirs', 'themselves', 'what', 'which', 'who', 'whom', 'this', 'that', \"that'll\", 'these', 'those', 'am', 'is', 'are', 'was', 'were', 'be', 'been', 'being', 'have', 'has', 'had', 'having', 'do', 'does', 'did', 'doing', 'a', 'an', 'the', 'and', 'but', 'if', 'or', 'because', 'as', 'until', 'while', 'of', 'at', 'by', 'for', 'with', 'about', 'against', 'between', 'into', 'through', 'during', 'before', 'after', 'above', 'below', 'to', 'from', 'up', 'down', 'in', 'out', 'on', 'off', 'over', 'under', 'again', 'further', 'then', 'once', 'here', 'there', 'when', 'where', 'why', 'how', 'all', 'any', 'both', 'each', 'few', 'more', 'most', 'other', 'some', 'such', 'no', 'nor', 'not', 'only', 'own', 'same', 'so', 'than', 'too', 'very', 's', 't', 'can', 'will', 'just', 'don', \"don't\", 'should', \"should've\", 'now', 'd', 'll', 'm', 'o', 're', 've', 'y', 'ain', 'aren', \"aren't\", 'couldn', \"couldn't\", 'didn', \"didn't\", 'doesn', \"doesn't\", 'hadn', \"hadn't\", 'hasn', \"hasn't\", 'haven', \"haven't\", 'isn', \"isn't\", 'ma', 'mightn', \"mightn't\", 'mustn', \"mustn't\", 'needn', \"needn't\", 'shan', \"shan't\", 'shouldn', \"shouldn't\", 'wasn', \"wasn't\", 'weren', \"weren't\", 'won', \"won't\", 'wouldn', \"wouldn't\"]\n"
     ]
    },
    {
     "name": "stderr",
     "output_type": "stream",
     "text": [
      "[nltk_data]   Unzipping corpora\\stopwords.zip.\n"
     ]
    }
   ],
   "source": [
    "from nltk.corpus import stopwords\n",
    "nltk.download('stopwords')\n",
    "\n",
    "#to get list of stopwords\n",
    "stopwords=stopwords.words(\"english\")\n",
    "print(stopwords)"
   ]
  },
  {
   "cell_type": "code",
   "execution_count": 20,
   "id": "69305a8e",
   "metadata": {},
   "outputs": [
    {
     "name": "stdout",
     "output_type": "stream",
     "text": [
      "['Once', 'Upon', 'Time', 'Fairy', 'Tale', 'Land', '.', 'It', \"'s\", 'filled', 'magic', ',', 'monsters', 'characters', 'know', 'stories', 'growing', '.', 'It', \"'s\", 'real', ',', 'people', '.', 'But', 'unlike', '``', 'happily', 'ever', \"''\", 'may', 'heard', ',', 'stories', 'continued', ',', 'The', 'Evil', 'Queen', 'cast', 'Dark', 'Curse', 'land', '...', 'This', 'Storybrooke', '.', 'It', \"'s\", 'quiet', ',', 'little', 'New', 'England', 'town', 'filled', 'people', 'go', 'everyday', 'lives', 'idea', 'really', '.', 'The', 'Queen', \"'s\", 'Curse', 'trapped', 'placed', 'near-complete', 'control', '.', 'They', 'real', 'memories', 'real', 'hope']\n"
     ]
    }
   ],
   "source": [
    "#empty list to store clean words\n",
    "clean_words=[]\n",
    "\n",
    "for w in words:\n",
    "    if w not in stopwords:\n",
    "        clean_words.append(w)\n",
    "    \n",
    "print(clean_words)"
   ]
  },
  {
   "cell_type": "code",
   "execution_count": 21,
   "id": "e0eda758",
   "metadata": {},
   "outputs": [
    {
     "name": "stdout",
     "output_type": "stream",
     "text": [
      "77\n"
     ]
    }
   ],
   "source": [
    "print(len(clean_words))"
   ]
  },
  {
   "cell_type": "code",
   "execution_count": 22,
   "id": "e0b95e6a",
   "metadata": {},
   "outputs": [
    {
     "data": {
      "text/plain": [
       "[('.', 6),\n",
       " (',', 5),\n",
       " (\"'s\", 4),\n",
       " ('It', 3),\n",
       " ('real', 3),\n",
       " ('filled', 2),\n",
       " ('stories', 2),\n",
       " ('people', 2),\n",
       " ('The', 2),\n",
       " ('Queen', 2)]"
      ]
     },
     "execution_count": 22,
     "metadata": {},
     "output_type": "execute_result"
    }
   ],
   "source": [
    "#final freq distribution\n",
    "fd=FreqDist(clean_words)\n",
    "\n",
    "fd.most_common(10)"
   ]
  },
  {
   "cell_type": "code",
   "execution_count": 25,
   "id": "d981ab43",
   "metadata": {},
   "outputs": [
    {
     "name": "stderr",
     "output_type": "stream",
     "text": [
      "[nltk_data] Downloading package averaged_perceptron_tagger to\n",
      "[nltk_data]     C:\\Users\\sweety\\AppData\\Roaming\\nltk_data...\n",
      "[nltk_data]   Unzipping taggers\\averaged_perceptron_tagger.zip.\n"
     ]
    },
    {
     "name": "stdout",
     "output_type": "stream",
     "text": [
      "[('studying', 'VBG'), ('study', 'NN')]\n"
     ]
    }
   ],
   "source": [
    "#pos tagging\n",
    "nltk.download('averaged_perceptron_tagger')\n",
    "tag=nltk.pos_tag(['studying','study'])\n",
    "print(tag)"
   ]
  },
  {
   "cell_type": "code",
   "execution_count": 31,
   "id": "e116fa53",
   "metadata": {},
   "outputs": [
    {
     "name": "stdout",
     "output_type": "stream",
     "text": [
      "[('A', 'DT'), ('very', 'RB'), ('beautiful', 'JJ'), ('lady', 'NN'), ('is', 'VBZ'), ('walking', 'VBG'), ('on', 'IN'), ('beach', 'NN')]\n"
     ]
    }
   ],
   "source": [
    "#parts of speech tagging example\n",
    "sentence=\"A very beautiful lady is walking on beach\"\n",
    "\n",
    "#tokenizing words\n",
    "tokenized_words=word_tokenize(sentence)\n",
    "\n",
    "tagged_words=nltk.pos_tag(tokenized_words)\n",
    "    \n",
    "print(tagged_words)"
   ]
  }
 ],
 "metadata": {
  "kernelspec": {
   "display_name": "Python 3 (ipykernel)",
   "language": "python",
   "name": "python3"
  },
  "language_info": {
   "codemirror_mode": {
    "name": "ipython",
    "version": 3
   },
   "file_extension": ".py",
   "mimetype": "text/x-python",
   "name": "python",
   "nbconvert_exporter": "python",
   "pygments_lexer": "ipython3",
   "version": "3.9.7"
  }
 },
 "nbformat": 4,
 "nbformat_minor": 5
}
